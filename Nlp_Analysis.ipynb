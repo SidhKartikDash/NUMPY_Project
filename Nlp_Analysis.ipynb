{
  "nbformat": 4,
  "nbformat_minor": 0,
  "metadata": {
    "colab": {
      "provenance": [],
      "authorship_tag": "ABX9TyP6c4NSjNdO5K/TBeDK1Cm7",
      "include_colab_link": true
    },
    "kernelspec": {
      "name": "python3",
      "display_name": "Python 3"
    },
    "language_info": {
      "name": "python"
    }
  },
  "cells": [
    {
      "cell_type": "markdown",
      "metadata": {
        "id": "view-in-github",
        "colab_type": "text"
      },
      "source": [
        "<a href=\"https://colab.research.google.com/github/SidhKartikDash/NUMPY_Project/blob/main/Nlp_Analysis.ipynb\" target=\"_parent\"><img src=\"https://colab.research.google.com/assets/colab-badge.svg\" alt=\"Open In Colab\"/></a>"
      ]
    },
    {
      "cell_type": "code",
      "execution_count": 6,
      "metadata": {
        "id": "nOmgaDcQPJ5d",
        "colab": {
          "base_uri": "https://localhost:8080/"
        },
        "outputId": "62617efb-d8b9-4564-8b46-8218cd20f615"
      },
      "outputs": [
        {
          "output_type": "stream",
          "name": "stderr",
          "text": [
            "[nltk_data] Downloading package punkt_tab to /root/nltk_data...\n",
            "[nltk_data]   Unzipping tokenizers/punkt_tab.zip.\n"
          ]
        },
        {
          "output_type": "stream",
          "name": "stdout",
          "text": [
            "['This', 'is', 'an', 'example', 'sentence', '.', 'Another', 'sentence', 'is', 'here', '.']\n"
          ]
        }
      ],
      "source": [
        "import nltk\n",
        "nltk.download('punkt_tab')\n",
        "# Download the Punkt tokenizer data\n",
        "text =\"This is an example sentence. Another sentence is here.\"\n",
        "tokens = nltk.word_tokenize(text)\n",
        "print(tokens)"
      ]
    },
    {
      "cell_type": "code",
      "source": [
        "text2 = \"This is the first sentence. This is the second sentence.\"\n",
        "sentences = nltk.sent_tokenize(text2)\n",
        "print(\"Sentences:\", sentences)"
      ],
      "metadata": {
        "colab": {
          "base_uri": "https://localhost:8080/"
        },
        "id": "AMC9O6djPRfz",
        "outputId": "3c93ad24-bd53-42bf-fdc0-a76df3e558c0"
      },
      "execution_count": 7,
      "outputs": [
        {
          "output_type": "stream",
          "name": "stdout",
          "text": [
            "Sentences: ['This is the first sentence.', 'This is the second sentence.']\n"
          ]
        }
      ]
    },
    {
      "cell_type": "code",
      "source": [
        "from nltk.util import ngrams\n",
        "import nltk\n",
        "nltk.download('punkt')\n",
        "\n",
        "text = \"The quick brown fox jumps over the lazy dog.\"\n",
        "\n",
        "# Tokenize the text into individual words\n",
        "tokens = nltk.word_tokenize(text)\n",
        "\n",
        "# Generate bigrams and trigrams from the tokens\n",
        "bigrams = list(ngrams(tokens, 2))\n",
        "trigrams = list(ngrams(tokens, 3))\n",
        "\n",
        "print(\"Original text:\", text)\n",
        "print(\"Tokens:\", tokens)\n",
        "print(\"Bigrams:\", bigrams)\n",
        "print(\"Trigrams:\", trigrams)"
      ],
      "metadata": {
        "colab": {
          "base_uri": "https://localhost:8080/"
        },
        "id": "BabmVELwPosO",
        "outputId": "a2726302-c833-4844-846e-3248e8f2891d"
      },
      "execution_count": 9,
      "outputs": [
        {
          "output_type": "stream",
          "name": "stdout",
          "text": [
            "Original text: The quick brown fox jumps over the lazy dog.\n",
            "Tokens: ['The', 'quick', 'brown', 'fox', 'jumps', 'over', 'the', 'lazy', 'dog', '.']\n",
            "Bigrams: [('The', 'quick'), ('quick', 'brown'), ('brown', 'fox'), ('fox', 'jumps'), ('jumps', 'over'), ('over', 'the'), ('the', 'lazy'), ('lazy', 'dog'), ('dog', '.')]\n",
            "Trigrams: [('The', 'quick', 'brown'), ('quick', 'brown', 'fox'), ('brown', 'fox', 'jumps'), ('fox', 'jumps', 'over'), ('jumps', 'over', 'the'), ('over', 'the', 'lazy'), ('the', 'lazy', 'dog'), ('lazy', 'dog', '.')]\n"
          ]
        },
        {
          "output_type": "stream",
          "name": "stderr",
          "text": [
            "[nltk_data] Downloading package punkt to /root/nltk_data...\n",
            "[nltk_data]   Package punkt is already up-to-date!\n"
          ]
        }
      ]
    },
    {
      "cell_type": "code",
      "source": [
        "import nltk\n",
        "nltk.download('punkt_tab')\n",
        "# Download the Punkt tokenizer data\n",
        "text =\"This is an example sentence. Another sentence is here.\"\n",
        "tokens = nltk.word_tokenize(text)\n",
        "print(tokens)"
      ],
      "metadata": {
        "colab": {
          "base_uri": "https://localhost:8080/"
        },
        "id": "NcMpZ6STP5N2",
        "outputId": "8db7300e-bf6e-49cf-a1ec-e066dd0ff552"
      },
      "execution_count": 10,
      "outputs": [
        {
          "output_type": "stream",
          "name": "stdout",
          "text": [
            "Original words: ['running', 'runs', 'ran']\n",
            "Stemmed words: ['run', 'run', 'ran']\n"
          ]
        }
      ]
    },
    {
      "cell_type": "code",
      "source": [
        "import nltk\n",
        "nltk.download('omw-1.4')\n",
        "from nltk.stem import WordNetLemmatizer\n",
        "\n",
        "nltk.download('wordnet')  # Download the WordNet corpus\n",
        "\n",
        "lemmatizer = WordNetLemmatizer()\n",
        "\n",
        "word = \"running\"\n",
        "lemma_word = lemmatizer.lemmatize(word, pos=\"v\")  # specify the part of speech as verb (v)\n",
        "\n",
        "print(lemma_word)  # Output: run\n"
      ],
      "metadata": {
        "colab": {
          "base_uri": "https://localhost:8080/"
        },
        "id": "3INApyAvSKmI",
        "outputId": "113b141a-19f1-4a5e-ea5c-fac502438966"
      },
      "execution_count": 11,
      "outputs": [
        {
          "output_type": "stream",
          "name": "stderr",
          "text": [
            "[nltk_data] Downloading package omw-1.4 to /root/nltk_data...\n",
            "[nltk_data] Downloading package wordnet to /root/nltk_data...\n"
          ]
        },
        {
          "output_type": "stream",
          "name": "stdout",
          "text": [
            "run\n"
          ]
        }
      ]
    },
    {
      "cell_type": "code",
      "source": [
        "from nltk.corpus import stopwords\n",
        "nltk.download('stopwords') # Download the stop words corpus\n",
        "stop_words = set(stopwords.words('english'))\n",
        "text = \"this is an example sentence that includes stop words\"\n",
        "tokens = nltk.word_tokenize(text)\n",
        "filtered_tokens = [word for word in tokens if not word.lower() in stop_words]"
      ],
      "metadata": {
        "colab": {
          "base_uri": "https://localhost:8080/"
        },
        "id": "BUC7mYBiT9TI",
        "outputId": "a2534c8c-482a-410f-b58e-0dfa980df305"
      },
      "execution_count": 12,
      "outputs": [
        {
          "output_type": "stream",
          "name": "stderr",
          "text": [
            "[nltk_data] Downloading package stopwords to /root/nltk_data...\n",
            "[nltk_data]   Unzipping corpora/stopwords.zip.\n"
          ]
        }
      ]
    },
    {
      "cell_type": "code",
      "source": [
        "from nltk.corpus import stopwords\n",
        "\n",
        "nltk.download('stopwords') # Download the stop words corpus\n",
        "\n",
        "stop_words = set(stopwords.words('english'))\n",
        "\n",
        "text = \"this is an example sentence that includes stop words\"\n",
        "\n",
        "tokens = nltk.word_tokenize (text)\n",
        "\n",
        "filtered_tokens = [word for word in tokens if not word.lower() in stop_words]\n",
        "\n",
        "filtered_text = ''.join(filtered_tokens)\n",
        "\n",
        "print(\"data\", filtered_text) # Output: example sentence includes stop words"
      ],
      "metadata": {
        "colab": {
          "base_uri": "https://localhost:8080/"
        },
        "id": "SWCNVuC2Vl-O",
        "outputId": "e396677b-680b-414f-ccaf-02b378a917c7"
      },
      "execution_count": 13,
      "outputs": [
        {
          "output_type": "stream",
          "name": "stdout",
          "text": [
            "data examplesentenceincludesstopwords\n"
          ]
        },
        {
          "output_type": "stream",
          "name": "stderr",
          "text": [
            "[nltk_data] Downloading package stopwords to /root/nltk_data...\n",
            "[nltk_data]   Package stopwords is already up-to-date!\n"
          ]
        }
      ]
    },
    {
      "cell_type": "code",
      "source": [
        "from nltk.tokenize import word_tokenize\n",
        "nltk.download('averaged_perceptron_tagger_eng')\n",
        "\n",
        "text = \"The quick brown fox jumps over the lazy dog.\"\n",
        "tokens= word_tokenize(text)\n",
        "pos_tags = nltk.pos_tag(tokens)\n",
        "print(pos_tags)"
      ],
      "metadata": {
        "colab": {
          "base_uri": "https://localhost:8080/"
        },
        "id": "4zvzvQ7UVo5w",
        "outputId": "9d74dc67-cc55-4524-a085-b3a3733debcb"
      },
      "execution_count": 14,
      "outputs": [
        {
          "output_type": "stream",
          "name": "stderr",
          "text": [
            "[nltk_data] Downloading package averaged_perceptron_tagger_eng to\n",
            "[nltk_data]     /root/nltk_data...\n",
            "[nltk_data]   Unzipping taggers/averaged_perceptron_tagger_eng.zip.\n"
          ]
        },
        {
          "output_type": "stream",
          "name": "stdout",
          "text": [
            "[('The', 'DT'), ('quick', 'JJ'), ('brown', 'NN'), ('fox', 'NN'), ('jumps', 'VBZ'), ('over', 'IN'), ('the', 'DT'), ('lazy', 'JJ'), ('dog', 'NN'), ('.', '.')]\n"
          ]
        }
      ]
    },
    {
      "cell_type": "code",
      "source": [
        "# NER\n",
        "from nltk import pos_tag, ne_chunk\n",
        "nltk.download('maxent_ne_chunker')\n",
        "nltk.download('words')\n",
        "\n",
        "# Define the text\n",
        "text = \"Apple is expected to launch its new iPhone in September at the\"\n",
        "\n",
        "# Tokenize the text\n",
        "tokens = word_tokenize(text)\n",
        "\n",
        "# Perform part-of-speech tagging on the tokens\n",
        "tagged = pos_tag(tokens)\n",
        "\n",
        "# Perform named entity recognition on the tagged text\n",
        "ne = ne_chunk(tagged)\n",
        "\n",
        "# Print the named entities\n",
        "for chunk in ne:\n",
        "    if hasattr(chunk, 'label'):\n",
        "        print(chunk.label(), ' '.join(c[0] forc in chunk))\n"
      ],
      "metadata": {
        "colab": {
          "base_uri": "https://localhost:8080/",
          "height": 106
        },
        "id": "-KgzjT30W2u4",
        "outputId": "5b2ecf71-f8a2-426f-803c-02abd28b659c"
      },
      "execution_count": 15,
      "outputs": [
        {
          "output_type": "error",
          "ename": "SyntaxError",
          "evalue": "invalid syntax. Perhaps you forgot a comma? (<ipython-input-15-1b0a3f610b1e>, line 21)",
          "traceback": [
            "\u001b[0;36m  File \u001b[0;32m\"<ipython-input-15-1b0a3f610b1e>\"\u001b[0;36m, line \u001b[0;32m21\u001b[0m\n\u001b[0;31m    print(chunk.label(), ' '.join(c[0] forc in chunk))\u001b[0m\n\u001b[0m                                   ^\u001b[0m\n\u001b[0;31mSyntaxError\u001b[0m\u001b[0;31m:\u001b[0m invalid syntax. Perhaps you forgot a comma?\n"
          ]
        }
      ]
    },
    {
      "source": [
        "import nltk\n",
        "from nltk import pos_tag, ne_chunk\n",
        "from nltk.tokenize import word_tokenize\n",
        "\n",
        "nltk.download('punkt')\n",
        "nltk.download('maxent_ne_chunker')\n",
        "nltk.download('words')\n",
        "nltk.download('averaged_perceptron_tagger')\n",
        "# Download the necessary data for the Maxent_NE_Chunker\n",
        "nltk.download('maxent_ne_chunker_tab') # This line is added to download the missing data\n",
        "\n",
        "# Define the text\n",
        "text = \"Apple is expected to launch its new iPhone in September at the event.\"\n",
        "\n",
        "# Tokenize the text\n",
        "tokens = word_tokenize(text)\n",
        "\n",
        "# Perform part-of-speech tagging on the tokens\n",
        "tagged = pos_tag(tokens)\n",
        "\n",
        "# Perform named entity recognition on the tagged text\n",
        "ne = ne_chunk(tagged)\n",
        "\n",
        "# Print the named entities\n",
        "for chunk in ne:\n",
        "    if hasattr(chunk, 'label'):\n",
        "        print(chunk.label(), ' '.join(c[0] for c in chunk))"
      ],
      "cell_type": "code",
      "metadata": {
        "colab": {
          "base_uri": "https://localhost:8080/"
        },
        "id": "GB-xX-2oXjkt",
        "outputId": "a83a5479-9491-45e9-d151-18ff0a89e431"
      },
      "execution_count": 17,
      "outputs": [
        {
          "output_type": "stream",
          "name": "stderr",
          "text": [
            "[nltk_data] Downloading package punkt to /root/nltk_data...\n",
            "[nltk_data]   Package punkt is already up-to-date!\n",
            "[nltk_data] Downloading package maxent_ne_chunker to\n",
            "[nltk_data]     /root/nltk_data...\n",
            "[nltk_data]   Package maxent_ne_chunker is already up-to-date!\n",
            "[nltk_data] Downloading package words to /root/nltk_data...\n",
            "[nltk_data]   Package words is already up-to-date!\n",
            "[nltk_data] Downloading package averaged_perceptron_tagger to\n",
            "[nltk_data]     /root/nltk_data...\n",
            "[nltk_data]   Package averaged_perceptron_tagger is already up-to-\n",
            "[nltk_data]       date!\n",
            "[nltk_data] Downloading package maxent_ne_chunker_tab to\n",
            "[nltk_data]     /root/nltk_data...\n",
            "[nltk_data]   Unzipping chunkers/maxent_ne_chunker_tab.zip.\n"
          ]
        },
        {
          "output_type": "stream",
          "name": "stdout",
          "text": [
            "GPE Apple\n"
          ]
        }
      ]
    },
    {
      "cell_type": "code",
      "source": [
        "from nltk.sentiment import SentimentIntensityAnalyzer\n",
        "nltk.download('vader_lexicon')\n",
        "\n",
        "# Initialize the sentiment analyzer\n",
        "sid = SentimentIntensityAnalyzer()\n",
        "\n",
        "# Sample text\n",
        "text = \"I hate this product! It would not work perfectly and I would definitely recommend it to anyone.\"\n",
        "\n",
        "# Compute the sentiment scores for the text\n",
        "scores = sid.polarity_scores(text)\n",
        "\n",
        "# Print the sentiment scores\n",
        "print(scores)\n"
      ],
      "metadata": {
        "colab": {
          "base_uri": "https://localhost:8080/"
        },
        "id": "Hknj05BdcrKV",
        "outputId": "e8c4a9c4-7794-4236-8d63-e758e5ca433e"
      },
      "execution_count": 18,
      "outputs": [
        {
          "output_type": "stream",
          "name": "stdout",
          "text": [
            "{'neg': 0.312, 'neu': 0.467, 'pos': 0.221, 'compound': -0.4871}\n"
          ]
        },
        {
          "output_type": "stream",
          "name": "stderr",
          "text": [
            "[nltk_data] Downloading package vader_lexicon to /root/nltk_data...\n"
          ]
        }
      ]
    }
  ]
}